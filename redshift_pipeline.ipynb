{
 "cells": [
  {
   "cell_type": "code",
   "execution_count": null,
   "id": "cca965a3",
   "metadata": {},
   "outputs": [],
   "source": [
    "\n",
    "conn = rc.connect(\n",
    "    host='redshift-cluster-pythoniacexample.cwwnxlziwfof.us-east-1.redshift.amazonaws.com',\n",
    "    database='dev',\n",
    "    user='awsuser',\n",
    "    password='AWSuser1!'\n",
    " )\n",
    "\n",
    "\n",
    "conn.autocommit=True\n",
    "\n",
    "\n",
    "cursor:rc.cursor=conn.cursor()\n",
    "\n",
    "\n",
    "cursor.execute(\"create table book(bookname varchar,author varchar)\")\n",
    "cursor.executemany(\"insert into book (bookname, author) values (%s, %s)\",\n",
    "                    [\n",
    "                        ('One Hundred Years of Solitude', 'Gabriel García Márquez'),\n",
    "                        ('A Brief History of Time', 'Stephen Hawking')\n",
    "                    ]\n",
    "                  )\n",
    "cursor.execute(\"select * from book\")\n",
    "\n",
    "result: tuple = cursor.fetchall()\n",
    "print(result)\n",
    "(['One Hundred Years of Solitude', 'Gabriel García Márquez'], ['One Hundred Years of Solitude', 'Gabriel García Márquez'], ['A Brief History of Time', 'Stephen Hawking'], ['A Brief History of Time', 'Stephen Hawking'])"
   ]
  }
 ],
 "metadata": {
  "kernelspec": {
   "display_name": "Python 3 (ipykernel)",
   "language": "python",
   "name": "python3"
  },
  "language_info": {
   "codemirror_mode": {
    "name": "ipython",
    "version": 3
   },
   "file_extension": ".py",
   "mimetype": "text/x-python",
   "name": "python",
   "nbconvert_exporter": "python",
   "pygments_lexer": "ipython3",
   "version": "3.10.9"
  }
 },
 "nbformat": 4,
 "nbformat_minor": 5
}
